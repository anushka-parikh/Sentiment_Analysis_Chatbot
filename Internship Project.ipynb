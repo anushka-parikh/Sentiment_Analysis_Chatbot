{
 "cells": [
  {
   "cell_type": "code",
   "execution_count": 1,
   "id": "b01b17ff-37f9-480d-a270-09dc9df86622",
   "metadata": {},
   "outputs": [],
   "source": [
    "positive_words = [\n",
    "    \"amazing\", \"awesome\", \"beautiful\", \"brilliant\", \"cheerful\", \"delightful\", \"elegant\", \n",
    "    \"fantastic\", \"glorious\", \"happy\", \"incredible\", \"joyful\", \"lovely\", \"marvelous\", \n",
    "    \"outstanding\", \"phenomenal\", \"radiant\", \"spectacular\", \"terrific\", \"uplifting\", \n",
    "    \"wonderful\", \"vibrant\", \"positive\", \"optimistic\", \"enthusiastic\", \"blissful\", \n",
    "    \"splendid\", \"charming\", \"excellent\", \"fabulous\", \"graceful\", \"inspiring\", \n",
    "    \"kind-hearted\", \"magnificent\", \"noble\", \"peaceful\", \n",
    "    \"remarkable\", \"stunning\", \"thrilling\", \"unforgettable\", \"victorious\", \"warm-hearted\", \n",
    "    \"zestful\", \"admirable\", \"adorable\", \"affectionate\", \"agreeable\", \"alluring\", \"angelic\", \n",
    "    \"appreciated\", \"appreciative\", \"astonishing\", \"astounding\", \"attractive\", \"authentic\", \n",
    "    \"awesome\", \"balanced\", \"beaming\", \"beauteous\", \"beloved\", \"blessed\", \"blissful\", \n",
    "    \"breathtaking\", \"bright\", \"bubbly\", \"calm\", \"captivating\", \"celebrated\", \n",
    "    \"charismatic\", \"charming\", \"cheery\", \"cherished\", \"comfortable\", \"confident\", \n",
    "    \"content\", \"courteous\", \"dazzling\", \"decent\",\n",
    "    \"delicious\", \"divine\", \"enchanting\", \"encouraging\", \n",
    "    \"energetic\", \"enjoyable\", \"enlightened\", \"enthusiastic\", \"excellent\", \n",
    "    \"exciting\", \"exquisite\", \"extraordinary\", \"faithful\", \"fantabulous\", \n",
    "    \"fascinating\", \"favorable\", \"flourishing\", \"fortunate\", \"friendly\", \"fulfilling\", \n",
    "    \"fun\", \"generous\", \"genial\", \"gentle\", \"glamorous\", \"gleaming\", \"glorious\", \"glowing\", \n",
    "    \"good-hearted\", \"graceful\", \"gracious\", \"grand\", \"grateful\", \"great\", \"harmonious\", \n",
    "    \"heartwarming\", \"heavenly\", \"honest\", \"honorable\", \"hopeful\", \"hospitable\", \"immense\", \"impressive\", \"incredible\", \n",
    "    \"inspirational\", \"intelligent\", \"intense\", \"intriguing\", \"jovial\", \"jubilant\", \"keen\",\"legendary\", \"lively\", \"lovable\", \"loving\", \n",
    "    \"luminous\", \"majestic\",\"positive\",\"enjoy\",\"laughing\",\"pretty\"\n",
    "]\n",
    "\n",
    "negative_words = [\n",
    "    \"abandon\", \"abuse\", \"angry\", \"annoyed\", \"anxious\", \"bad\", \"barrier\", \"bitter\",\n",
    "    \"blame\", \"bored\", \"broken\", \"chaos\", \"cold\", \"conflict\", \"cry\", \"cursed\", \n",
    "    \"danger\", \"depressed\", \"despair\", \"disaster\", \"dismal\", \"disgust\", \"doubt\", \n",
    "    \"failure\", \"fear\", \"fragile\", \"frustrated\", \"greedy\", \"guilt\", \"hatred\", \n",
    "    \"hostile\", \"hurt\", \"inadequate\", \"insecure\", \"isolated\", \"jealous\", \"lazy\", \n",
    "    \"loser\", \"malicious\", \"miserable\", \"neglect\", \"pain\", \"pathetic\", \"prejudice\",\n",
    "    \"regret\", \"rejected\", \"resent\", \"sad\", \"shame\", \"sick\", \"struggle\", \"stuck\",\n",
    "    \"suffer\", \"suspicious\", \"trouble\", \"ugly\", \"unhappy\", \"unpleasant\", \"useless\",\n",
    "    \"vain\", \"violent\", \"worry\", \"worthless\", \"yell\", \"zealous\", \"angst\", \"arrogant\",\n",
    "    \"bully\", \"cruel\", \"disappointed\", \"dismayed\", \"distress\", \"envy\", \"failing\",\n",
    "    \"frustrate\", \"grim\", \"harsh\", \"hurtful\", \"infuriate\", \"insult\", \"irritate\",\n",
    "    \"mean\", \"mourn\", \"negativity\", \"oppressed\", \"pessimistic\", \"resentful\",\n",
    "    \"sullen\", \"torment\", \"vex\", \"weary\", \"wretched\",\"negative\",\"bored\",\"crying\",\"devastated\",\"alone\",\"evil\"\n",
    "]"
   ]
  },
  {
   "cell_type": "code",
   "execution_count": 2,
   "id": "0d52127e-2fb9-4264-a01f-3f7112333124",
   "metadata": {},
   "outputs": [
    {
     "name": "stdout",
     "output_type": "stream",
     "text": [
      "Hello! I can tell if a word/sentence/paragraph is positive or negative.\n",
      "\n"
     ]
    },
    {
     "name": "stdin",
     "output_type": "stream",
     "text": [
      "Enter a word/sentence/paragraph (or type 'exit' to quit):  Pandas are calm and gentle creatures. Yet sometimes they are greed, sick and sad. They are A TROUBLE AND DEPRESSED. They are mean; bitter, and \"anxious\".\n"
     ]
    },
    {
     "name": "stdout",
     "output_type": "stream",
     "text": [
      "Positive Percentage: 7.6923076923076925\n",
      "Negative Percentage: 26.923076923076923\n",
      "Your sentiment is Negative.\n",
      "\n"
     ]
    },
    {
     "name": "stdin",
     "output_type": "stream",
     "text": [
      "Enter a word/sentence/paragraph (or type 'exit' to quit):  quit\n"
     ]
    },
    {
     "name": "stdout",
     "output_type": "stream",
     "text": [
      "Positive Percentage: 0.0\n",
      "Negative Percentage: 0.0\n",
      "Your sentiment is Neutral.\n",
      "\n"
     ]
    },
    {
     "name": "stdin",
     "output_type": "stream",
     "text": [
      "Enter a word/sentence/paragraph (or type 'exit' to quit):  exit\n"
     ]
    },
    {
     "name": "stdout",
     "output_type": "stream",
     "text": [
      "Thank you! If you have any more questions, don't hesitate to ask. Goodbye!\n"
     ]
    }
   ],
   "source": [
    "def check_sentiment(words):\n",
    "    p = 0\n",
    "    n = 0\n",
    "    l = len(words)\n",
    "    \n",
    "    for word in words:\n",
    "        word = word.replace('.', '').strip()\n",
    "        word = word.replace(',', '').strip()\n",
    "        word = word.replace(';', '').strip()\n",
    "        word = word.replace('\"', '').strip()\n",
    "        \n",
    "        if word in positive_words:\n",
    "            p += 1\n",
    "        if word in negative_words:\n",
    "            n += 1\n",
    "    \n",
    "    if l == 0:\n",
    "        p_percentage = 0\n",
    "        n_percentage = 0\n",
    "    else:\n",
    "        p_percentage = (p / l) * 100\n",
    "        n_percentage = (n / l) * 100\n",
    "    \n",
    "    print(\"Positive Percentage:\", p_percentage)\n",
    "    print(\"Negative Percentage:\", n_percentage)\n",
    "    \n",
    "    if p > n:\n",
    "        return \"Positive\"\n",
    "    elif n > p:\n",
    "        return \"Negative\"\n",
    "    else:\n",
    "        return \"Neutral\"\n",
    "\n",
    "print(\"Hello! I can tell if a word/sentence/paragraph is positive or negative.\")\n",
    "print()\n",
    "while True:\n",
    "    userinput = input(\"Enter a word/sentence/paragraph (or type 'exit' to quit): \")\n",
    "    userinput = userinput.lower().strip()\n",
    "    if userinput == \"exit\":\n",
    "        print(\"Thank you! If you have any more questions, don't hesitate to ask. Goodbye!\")\n",
    "        break\n",
    "    words = userinput.split()\n",
    "    sentiment = check_sentiment(words)\n",
    "    print(f\"Your sentiment is {sentiment}.\")\n",
    "    print()"
   ]
  },
  {
   "cell_type": "code",
   "execution_count": null,
   "id": "e98dbf97-ea94-418a-8ef4-4ecc765caba2",
   "metadata": {},
   "outputs": [],
   "source": []
  }
 ],
 "metadata": {
  "kernelspec": {
   "display_name": "Python 3 (ipykernel)",
   "language": "python",
   "name": "python3"
  },
  "language_info": {
   "codemirror_mode": {
    "name": "ipython",
    "version": 3
   },
   "file_extension": ".py",
   "mimetype": "text/x-python",
   "name": "python",
   "nbconvert_exporter": "python",
   "pygments_lexer": "ipython3",
   "version": "3.12.1"
  }
 },
 "nbformat": 4,
 "nbformat_minor": 5
}
